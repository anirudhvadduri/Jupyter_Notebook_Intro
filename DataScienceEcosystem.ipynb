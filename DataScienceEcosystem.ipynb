{
 "cells": [
  {
   "cell_type": "markdown",
   "id": "d6018c95-d859-48dd-ab72-82ad7db58cdf",
   "metadata": {},
   "source": [
    "# Data Science Tools and Ecosystem"
   ]
  },
  {
   "cell_type": "markdown",
   "id": "9bddcf80-5345-4e9c-8cec-16be402f45de",
   "metadata": {},
   "source": [
    "In this note, Data Science Tools and Ecosystem are summarized"
   ]
  },
  {
   "cell_type": "markdown",
   "id": "2d8656f8-dc68-46cd-bedf-e791b0897efe",
   "metadata": {},
   "source": [
    "**Objectives**\n",
    "- List popular languages for Data Science.\n",
    "- List common libraries used by Data Scientists\n",
    "- Create a table in markdown\n",
    "- Do arithmetic in jupyter notebooks"
   ]
  },
  {
   "cell_type": "markdown",
   "id": "2e6064d7-5252-426a-8db0-5bf2cf82b072",
   "metadata": {},
   "source": [
    "Some of the popular languages that Data Scientists use are:\n",
    "1. Python\n",
    "2. R\n",
    "3. SQL\n",
    "4. C/C++"
   ]
  },
  {
   "cell_type": "markdown",
   "id": "1e92066a-8c65-44db-bd35-b8c44ed3668b",
   "metadata": {},
   "source": [
    "Some of the commonly used libraries used by Data Scientists include:\n",
    "1. Pandas\n",
    "2. NumPy\n",
    "3. SciKit-Learn\n",
    "4. PyTorch\n",
    "5. TensorFlow"
   ]
  },
  {
   "cell_type": "markdown",
   "id": "567c5b81-9015-4fa7-8f77-a04633fe984a",
   "metadata": {},
   "source": [
    "|Data Science Tools | \n",
    "| ------ |\n",
    "| Anaconda |\n",
    "| Jupyter Notebooks |\n",
    "| Visual Studio Code |\n"
   ]
  },
  {
   "cell_type": "markdown",
   "id": "746e468d-7a88-434c-a5e5-72c128c8cafb",
   "metadata": {},
   "source": [
    "### Below are a few examples of evaluating arithmetic expressions in Python"
   ]
  },
  {
   "cell_type": "code",
   "execution_count": 4,
   "id": "c59541b3-9ef6-4127-854b-096b39ca6c28",
   "metadata": {},
   "outputs": [
    {
     "data": {
      "text/plain": [
       "17"
      ]
     },
     "execution_count": 4,
     "metadata": {},
     "output_type": "execute_result"
    }
   ],
   "source": [
    "# This a simple arithmetic expression to mutiply then add integers\n",
    "(3*4)+5"
   ]
  },
  {
   "cell_type": "code",
   "execution_count": 5,
   "id": "be849971-10c2-4cfd-8374-21a1d5fe4191",
   "metadata": {},
   "outputs": [
    {
     "data": {
      "text/plain": [
       "3.3333333333333335"
      ]
     },
     "execution_count": 5,
     "metadata": {},
     "output_type": "execute_result"
    }
   ],
   "source": [
    "# This will convert 200 minutes to hours by diving by 60\n",
    "200/60"
   ]
  },
  {
   "cell_type": "markdown",
   "id": "2fb33521-71e9-478c-a8bd-9ec318809e60",
   "metadata": {},
   "source": [
    "## Author\n",
    "Anirudh"
   ]
  },
  {
   "cell_type": "code",
   "execution_count": null,
   "id": "6f77f6dd-916c-4a8d-a669-5d0d5e959a6a",
   "metadata": {},
   "outputs": [],
   "source": []
  }
 ],
 "metadata": {
  "kernelspec": {
   "display_name": "Python 3 (ipykernel)",
   "language": "python",
   "name": "python3"
  },
  "language_info": {
   "codemirror_mode": {
    "name": "ipython",
    "version": 3
   },
   "file_extension": ".py",
   "mimetype": "text/x-python",
   "name": "python",
   "nbconvert_exporter": "python",
   "pygments_lexer": "ipython3",
   "version": "3.11.7"
  }
 },
 "nbformat": 4,
 "nbformat_minor": 5
}
